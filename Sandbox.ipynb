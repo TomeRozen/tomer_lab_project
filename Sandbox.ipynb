{
 "cells": [
  {
   "cell_type": "code",
   "execution_count": 2,
   "id": "8b0b045b",
   "metadata": {
    "pycharm": {
     "name": "#%%\n"
    }
   },
   "outputs": [],
   "source": [
    "import os\n",
    "import numpy as np\n",
    "import pandas as pd\n",
    "import pysam\n",
    "import math\n",
    "import pickle\n",
    "import plotly.graph_objects as go\n",
    "import plotly.express as px"
   ]
  },
  {
   "cell_type": "code",
   "execution_count": null,
   "id": "97c1b6fe",
   "metadata": {
    "pycharm": {
     "name": "#%%\n"
    }
   },
   "outputs": [],
   "source": [
    "# ! ls -l ../../carmelab/backup/genomes/from_Arielle/ust/Ust_Ishim.hg19_1000g.all.bam\n",
    "# ! pip3 install plotly"
   ]
  },
  {
   "cell_type": "markdown",
   "id": "8563539a",
   "metadata": {
    "pycharm": {
     "name": "#%% md\n"
    }
   },
   "source": [
    "## Open, read and parse BAM file and CpG coordinates file:"
   ]
  },
  {
   "cell_type": "code",
   "execution_count": 2,
   "id": "cf7f88e4",
   "metadata": {
    "pycharm": {
     "name": "#%%\n"
    }
   },
   "outputs": [],
   "source": [
    "def load_samfile(sample_name):\n",
    "    if sample_name.lower() == \"altai\":\n",
    "        samfile_path = \"../../carmelab/backup/genomes/from_Arielle/altai/altai_bams/Altai_chr21.bam\"\n",
    "    else:\n",
    "        raise ValueError(f'Unknown sample name: {sample_name}')\n",
    "    \n",
    "    samfile = pysam.AlignmentFile(samfile_path, \"rb\")\n",
    "    return samfile"
   ]
  },
  {
   "cell_type": "code",
   "execution_count": 3,
   "id": "5c1ddf3f",
   "metadata": {
    "pycharm": {
     "name": "#%%\n"
    }
   },
   "outputs": [],
   "source": [
    "with open (\"../../carmelab/backup/genomes/cpg_coords.txt\") as cpg_coords_file:\n",
    "    cpg_coords = cpg_coords_file.read().splitlines()\n",
    "chr21_cpgs = cpg_coords[22].replace(\"\\t\", \",\").split(\",\")\n",
    "chr21_cpgs_dict = {coord: True for coord in chr21_cpgs}"
   ]
  },
  {
   "cell_type": "markdown",
   "id": "2fea2035",
   "metadata": {
    "pycharm": {
     "name": "#%% md\n"
    }
   },
   "source": [
    "## CpG islands"
   ]
  },
  {
   "cell_type": "code",
   "execution_count": 4,
   "id": "de31a6c7",
   "metadata": {
    "pycharm": {
     "name": "#%%\n"
    }
   },
   "outputs": [],
   "source": [
    "cpg_df = pd.read_csv(\"../../carmelab/backup/genomes/CpGs_Islands.csv\", index_col=0)\n",
    "# print(cpg_df.head())\n",
    "# cpg_df.seqnames.unique()\n",
    "# print(cpg_df.strand.unique())"
   ]
  },
  {
   "cell_type": "code",
   "execution_count": 5,
   "id": "b27a53d9",
   "metadata": {
    "pycharm": {
     "name": "#%%\n"
    }
   },
   "outputs": [],
   "source": [
    "def get_distance_from_cpg(chromosome, position):\n",
    "    distance_from_cpg = math.inf\n",
    "    cpg_in_chrom = cpg_df.loc[cpg_df['seqnames'] == chromosome]\n",
    "    #finding nearest CpG island, that starts before position in genome (because after is too late)\n",
    "    nearest_earlier_island_start_index = np.searchsorted(cpg_in_chrom.start, position , side=\"right\")[0] - 1\n",
    "    nearest_earlier_island = cpg_in_chrom.iloc[nearest_earlier_island_start_index]\n",
    "    # if it's end is after the position given, then it's within the island\n",
    "    if position <= nearest_earlier_island.end:\n",
    "        distance_from_cpg = 0\n",
    "    else:\n",
    "        distance_from_earlier = position - nearest_earlier_island.end\n",
    "        distance_from_later = math.inf\n",
    "        if (nearest_earlier_island_start_index + 1) < len(cpg_in_chrom):\n",
    "            nearest_later_island = cpg_in_chrom.iloc[nearest_earlier_island_start_index + 1]\n",
    "            distance_from_later = nearest_later_island.start - position\n",
    "        distance_from_cpg = min(distance_from_earlier, distance_from_later)\n",
    "                              \n",
    "    return distance_from_cpg\n",
    "    \n",
    "    "
   ]
  },
  {
   "cell_type": "markdown",
   "id": "30954cb2",
   "metadata": {
    "pycharm": {
     "name": "#%% md\n"
    }
   },
   "source": [
    "# Generate DF of c sites"
   ]
  },
  {
   "cell_type": "code",
   "execution_count": 6,
   "id": "6432ba22",
   "metadata": {
    "pycharm": {
     "name": "#%%\n"
    }
   },
   "outputs": [],
   "source": [
    "# ones = 0\n",
    "# for read in samfile.fetch('21'):\n",
    "#     if (ones < 1) and (read.is_reverse):\n",
    "#         if read.mapping_quality < 20 and read.query_length == read.reference_length:\n",
    "#             read_aligned_pares = read.get_aligned_pairs()\n",
    "#             read_sequence = read.query_sequence\n",
    "#             ref_sequence = read.get_reference_sequence()\n",
    "#             print(read_aligned_pares)\n",
    "#             for index, base in enumerate(read_sequence):\n",
    "#                 print(base, ref_sequence[index], index, read.query_length - (read_aligned_pares[index][0] + 1))\n",
    "#         ones += 1"
   ]
  },
  {
   "cell_type": "code",
   "execution_count": 7,
   "id": "7485774d",
   "metadata": {},
   "outputs": [],
   "source": [
    "# count = 0\n",
    "# nones = 0\n",
    "# for read in samfile.fetch(chromosome):\n",
    "#     if read.mapping_quality < 20 and read.query_length == read.reference_length:\n",
    "#         read_aligned_pares = read.get_aligned_pairs(matches_only=True)\n",
    "#         read_sequence = read.query_sequence\n",
    "#         ref_sequence = read.get_reference_sequence()\n",
    "#         for index, base in enumerate(read_sequence):\n",
    "#             print(read_aligned_pares[index])\n",
    "#             if index == read_aligned_pares[index][0] and read.query_alignment_qualities[index] < 53 and read_aligned_pares[index][1] != None and(str(read_aligned_pares[index][1]+1) in chr21_cpgs_dict):\n",
    "#                 if read_aligned_pares[index][1] is None:\n",
    "#                     nones+=1\n",
    "#                 count += 1\n",
    "                \n",
    "# print(nones)\n",
    "# print(count)"
   ]
  },
  {
   "cell_type": "code",
   "execution_count": 14,
   "id": "3a2b330b",
   "metadata": {
    "pycharm": {
     "name": "#%%\n"
    }
   },
   "outputs": [
    {
     "name": "stdout",
     "output_type": "stream",
     "text": [
      "Processed 500 reads so far\n",
      "Processed 1000 reads so far\n",
      "Processed 1500 reads so far\n",
      "Processed 2000 reads so far\n",
      "Processed 2500 reads so far\n"
     ]
    }
   ],
   "source": [
    "df = pd.DataFrame(columns=['read_name', 'position_in_reference', 'position_in_read', 'after', 'distance_from_cpg_island', \"letter_before_read\", \"letter_after_read\", \"letter_before_ref\", \"letter_after_ref\"])\n",
    "df_ls = []\n",
    "samfile = load_samfile(\"altai\")\n",
    "chromosome = '21'\n",
    "# samfile.count('21')\n",
    "reads_processed = 0\n",
    "for read in samfile.fetch(chromosome, 9998400, 9999500):\n",
    "    if read.mapping_quality < 20 and read.query_length == read.reference_length:\n",
    "        read_aligned_pares = read.get_aligned_pairs()\n",
    "        read_sequence = read.query_sequence\n",
    "        ref_sequence = read.get_reference_sequence()\n",
    "        for index, base in enumerate(read_sequence):\n",
    "            if index == read_aligned_pares[index][0] and read.query_alignment_qualities[index] < 53 and read_aligned_pares[index][1] and (str(read_aligned_pares[index][1]+1) in chr21_cpgs_dict):\n",
    "                position_in_reference = read_aligned_pares[index][1]\n",
    "                letter_before_read = read_sequence[index-1] if index > 0 else \"!\"\n",
    "                letter_after_read = read_sequence[index+1] if index+1 < len(read_sequence) else \"!\"\n",
    "                #TODO - Should capitalize? \n",
    "                letter_before_ref = ref_sequence[index-1] if index > 0 else \"!\"\n",
    "                letter_after_ref = ref_sequence[index+1] if index+1 < len(read_sequence) else \"!\"\n",
    "                new_row = pd.DataFrame([{\n",
    "                    \"read_name\":read.query_name,\n",
    "                    \"position_in_reference\": position_in_reference,\n",
    "                    \"position_in_read\": read_aligned_pares[index][0],\n",
    "                    \"after\": base,\n",
    "                    \"distance_from_end\": read.query_length - (read_aligned_pares[index][0] + 1),\n",
    "                    \"read_length\": read.query_length,\n",
    "                    \"distance_from_cpg_island\": get_distance_from_cpg(chromosome, position_in_reference),\n",
    "                    \"letter_before_read\": letter_before_read,\n",
    "                    \"letter_after_read\": letter_after_read,\n",
    "                    \"letter_before_ref\": letter_before_ref,\n",
    "                    \"letter_after_ref\": letter_after_ref,\n",
    "                    \"is_cpg_coord\": str(position_in_reference+1) in chr21_cpgs_dict,\n",
    "                    \"is_reverse\": read.is_reverse\n",
    "                }])\n",
    "                df_ls.append(new_row)\n",
    "\n",
    "    reads_processed += 1\n",
    "    if reads_processed % 500 == 0:\n",
    "        print(f\"Processed {reads_processed} reads so far\")\n",
    "df = pd.concat(df_ls, axis=0, ignore_index=True)\n"
   ]
  },
  {
   "cell_type": "code",
   "execution_count": 15,
   "id": "e1666cc9",
   "metadata": {
    "pycharm": {
     "name": "#%%\n"
    }
   },
   "outputs": [
    {
     "name": "stdout",
     "output_type": "stream",
     "text": [
      "(309, 13)\n"
     ]
    },
    {
     "data": {
      "text/html": [
       "<div>\n",
       "<style scoped>\n",
       "    .dataframe tbody tr th:only-of-type {\n",
       "        vertical-align: middle;\n",
       "    }\n",
       "\n",
       "    .dataframe tbody tr th {\n",
       "        vertical-align: top;\n",
       "    }\n",
       "\n",
       "    .dataframe thead th {\n",
       "        text-align: right;\n",
       "    }\n",
       "</style>\n",
       "<table border=\"1\" class=\"dataframe\">\n",
       "  <thead>\n",
       "    <tr style=\"text-align: right;\">\n",
       "      <th></th>\n",
       "      <th>after</th>\n",
       "      <th>distance_from_cpg_island</th>\n",
       "      <th>distance_from_end</th>\n",
       "      <th>is_cpg_coord</th>\n",
       "      <th>is_reverse</th>\n",
       "      <th>letter_after_read</th>\n",
       "      <th>letter_after_ref</th>\n",
       "      <th>letter_before_read</th>\n",
       "      <th>letter_before_ref</th>\n",
       "      <th>position_in_read</th>\n",
       "      <th>position_in_reference</th>\n",
       "      <th>read_length</th>\n",
       "      <th>read_name</th>\n",
       "    </tr>\n",
       "  </thead>\n",
       "  <tbody>\n",
       "    <tr>\n",
       "      <th>0</th>\n",
       "      <td>C</td>\n",
       "      <td>29813</td>\n",
       "      <td>14</td>\n",
       "      <td>True</td>\n",
       "      <td>False</td>\n",
       "      <td>T</td>\n",
       "      <td>g</td>\n",
       "      <td>C</td>\n",
       "      <td>t</td>\n",
       "      <td>148</td>\n",
       "      <td>9998433</td>\n",
       "      <td>163</td>\n",
       "      <td>SN7001204_0131_BC0M3YACXX_PEdi_SS_L9302_L9303_...</td>\n",
       "    </tr>\n",
       "    <tr>\n",
       "      <th>1</th>\n",
       "      <td>C</td>\n",
       "      <td>29813</td>\n",
       "      <td>38</td>\n",
       "      <td>True</td>\n",
       "      <td>True</td>\n",
       "      <td>T</td>\n",
       "      <td>g</td>\n",
       "      <td>T</td>\n",
       "      <td>T</td>\n",
       "      <td>147</td>\n",
       "      <td>9998433</td>\n",
       "      <td>186</td>\n",
       "      <td>NIOBE_0139_A_D0B5GACXX:7:1308:16425:75667</td>\n",
       "    </tr>\n",
       "    <tr>\n",
       "      <th>2</th>\n",
       "      <td>C</td>\n",
       "      <td>29829</td>\n",
       "      <td>22</td>\n",
       "      <td>True</td>\n",
       "      <td>True</td>\n",
       "      <td>A</td>\n",
       "      <td>g</td>\n",
       "      <td>G</td>\n",
       "      <td>G</td>\n",
       "      <td>163</td>\n",
       "      <td>9998449</td>\n",
       "      <td>186</td>\n",
       "      <td>NIOBE_0139_A_D0B5GACXX:7:1308:16425:75667</td>\n",
       "    </tr>\n",
       "    <tr>\n",
       "      <th>3</th>\n",
       "      <td>C</td>\n",
       "      <td>29813</td>\n",
       "      <td>3</td>\n",
       "      <td>True</td>\n",
       "      <td>True</td>\n",
       "      <td>G</td>\n",
       "      <td>G</td>\n",
       "      <td>T</td>\n",
       "      <td>T</td>\n",
       "      <td>140</td>\n",
       "      <td>9998433</td>\n",
       "      <td>144</td>\n",
       "      <td>SN7001204_0131_BC0M3YACXX_PEdi_SS_L9302_L9303_...</td>\n",
       "    </tr>\n",
       "    <tr>\n",
       "      <th>4</th>\n",
       "      <td>C</td>\n",
       "      <td>29813</td>\n",
       "      <td>27</td>\n",
       "      <td>True</td>\n",
       "      <td>True</td>\n",
       "      <td>G</td>\n",
       "      <td>G</td>\n",
       "      <td>T</td>\n",
       "      <td>T</td>\n",
       "      <td>120</td>\n",
       "      <td>9998433</td>\n",
       "      <td>148</td>\n",
       "      <td>NIOBE_0139_A_D0B5GACXX:6:2108:9258:134346</td>\n",
       "    </tr>\n",
       "  </tbody>\n",
       "</table>\n",
       "</div>"
      ],
      "text/plain": [
       "  after  distance_from_cpg_island  distance_from_end  is_cpg_coord  \\\n",
       "0     C                     29813                 14          True   \n",
       "1     C                     29813                 38          True   \n",
       "2     C                     29829                 22          True   \n",
       "3     C                     29813                  3          True   \n",
       "4     C                     29813                 27          True   \n",
       "\n",
       "   is_reverse letter_after_read letter_after_ref letter_before_read  \\\n",
       "0       False                 T                g                  C   \n",
       "1        True                 T                g                  T   \n",
       "2        True                 A                g                  G   \n",
       "3        True                 G                G                  T   \n",
       "4        True                 G                G                  T   \n",
       "\n",
       "  letter_before_ref  position_in_read  position_in_reference  read_length  \\\n",
       "0                 t               148                9998433          163   \n",
       "1                 T               147                9998433          186   \n",
       "2                 G               163                9998449          186   \n",
       "3                 T               140                9998433          144   \n",
       "4                 T               120                9998433          148   \n",
       "\n",
       "                                           read_name  \n",
       "0  SN7001204_0131_BC0M3YACXX_PEdi_SS_L9302_L9303_...  \n",
       "1          NIOBE_0139_A_D0B5GACXX:7:1308:16425:75667  \n",
       "2          NIOBE_0139_A_D0B5GACXX:7:1308:16425:75667  \n",
       "3  SN7001204_0131_BC0M3YACXX_PEdi_SS_L9302_L9303_...  \n",
       "4          NIOBE_0139_A_D0B5GACXX:6:2108:9258:134346  "
      ]
     },
     "execution_count": 15,
     "metadata": {},
     "output_type": "execute_result"
    }
   ],
   "source": [
    "print(df.shape)\n",
    "df.head()"
   ]
  },
  {
   "cell_type": "code",
   "execution_count": null,
   "id": "199d2981",
   "metadata": {},
   "outputs": [],
   "source": [
    "df.to_csv('../../carmelab/backup/genomes/from_Arielle/altai/altai_bams/Altai_chr21.csv')"
   ]
  },
  {
   "cell_type": "code",
   "execution_count": null,
   "id": "3291aa28",
   "metadata": {
    "pycharm": {
     "name": "#%%\n"
    }
   },
   "outputs": [],
   "source": [
    "df[\"distance_from_nearest_end\"] = df[[\"position_in_read\", \"distance_from_end\"]].min(axis=1)"
   ]
  },
  {
   "cell_type": "code",
   "execution_count": 16,
   "id": "96dc92e1",
   "metadata": {
    "pycharm": {
     "name": "#%%\n"
    }
   },
   "outputs": [
    {
     "data": {
      "text/plain": [
       "C    92.233010\n",
       "T     6.472492\n",
       "G     0.647249\n",
       "N     0.323625\n",
       "A     0.323625\n",
       "Name: after, dtype: float64"
      ]
     },
     "execution_count": 16,
     "metadata": {},
     "output_type": "execute_result"
    }
   ],
   "source": [
    "df.after.value_counts(normalize=True) * 100"
   ]
  },
  {
   "cell_type": "code",
   "execution_count": null,
   "id": "ec425130",
   "metadata": {
    "pycharm": {
     "name": "#%%\n"
    }
   },
   "outputs": [],
   "source": [
    "df.letter_after_ref.value_counts()"
   ]
  },
  {
   "cell_type": "markdown",
   "id": "4f068f9f",
   "metadata": {
    "pycharm": {
     "name": "#%% md\n"
    }
   },
   "source": [
    "# Creating Sum Table"
   ]
  },
  {
   "cell_type": "code",
   "execution_count": null,
   "id": "290a6ef1",
   "metadata": {
    "pycharm": {
     "name": "#%%\n"
    }
   },
   "outputs": [],
   "source": [
    "df_ct = df[df[\"after\"].isin([\"C\", \"T\"])]\n",
    "final = df_ct.groupby('after')['distance_from_nearest_end'].value_counts().unstack().fillna(0)\n",
    "degrad_rate = final.iloc[1] / (final.iloc[0] + final.iloc[1]) * 100\n",
    "deg_rate_arr = np.asarray(degrad_rate)"
   ]
  },
  {
   "cell_type": "code",
   "execution_count": null,
   "id": "c37012d2",
   "metadata": {
    "pycharm": {
     "is_executing": true,
     "name": "#%%\n"
    }
   },
   "outputs": [],
   "source": [
    "fig = px.line(x=[i for i in range(len(deg_rate_arr))], y=deg_rate_arr)\n",
    "fig.show()"
   ]
  },
  {
   "cell_type": "code",
   "execution_count": null,
   "id": "f88c2f38",
   "metadata": {
    "pycharm": {
     "name": "#%%\n"
    }
   },
   "outputs": [],
   "source": [
    "\n",
    "print(final)"
   ]
  },
  {
   "cell_type": "code",
   "execution_count": 1,
   "id": "8b0171ba",
   "metadata": {
    "pycharm": {
     "name": "#%%\n"
    }
   },
   "outputs": [],
   "source": [
    "from nbformat import read, write\n",
    "def Remove_Output(Book):\n",
    "\n",
    "    for cell in Book.cells:\n",
    "\n",
    "        if hasattr(cell, \"outputs\"):\n",
    "\n",
    "            cell.outputs = []\n",
    "\n",
    "        if hasattr(cell, \"prompt_number\"):\n",
    "\n",
    "            del cell[\"prompt_number\"]\n",
    "\n",
    "Book = read(open(\"sandbox2_2.ipynb\"), 4)\n",
    "Remove_Output(Book)\n",
    "write(Book, open(\"sandbox2_2.ipynb\", \"w\"), 4)"
   ]
  },
  {
   "cell_type": "code",
   "execution_count": null,
   "id": "8b90a56c",
   "metadata": {},
   "outputs": [],
   "source": []
  }
 ],
 "metadata": {
  "kernelspec": {
   "display_name": "project_env",
   "language": "python",
   "name": "project_env"
  },
  "language_info": {
   "codemirror_mode": {
    "name": "ipython",
    "version": 3
   },
   "file_extension": ".py",
   "mimetype": "text/x-python",
   "name": "python",
   "nbconvert_exporter": "python",
   "pygments_lexer": "ipython3",
   "version": "3.7.3"
  }
 },
 "nbformat": 4,
 "nbformat_minor": 5
}
