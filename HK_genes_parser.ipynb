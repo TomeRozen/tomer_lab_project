{
 "cells": [
  {
   "cell_type": "code",
   "execution_count": 80,
   "metadata": {
    "collapsed": true,
    "ExecuteTime": {
     "start_time": "2023-05-25T11:08:52.828556Z",
     "end_time": "2023-05-25T11:08:55.254519Z"
    }
   },
   "outputs": [
    {
     "ename": "ModuleNotFoundError",
     "evalue": "No module named 'chroms'",
     "output_type": "error",
     "traceback": [
      "\u001B[0;31m---------------------------------------------------------------------------\u001B[0m",
      "\u001B[0;31mModuleNotFoundError\u001B[0m                       Traceback (most recent call last)",
      "Cell \u001B[0;32mIn[80], line 2\u001B[0m\n\u001B[1;32m      1\u001B[0m \u001B[38;5;28;01mimport\u001B[39;00m \u001B[38;5;21;01mpandas\u001B[39;00m \u001B[38;5;28;01mas\u001B[39;00m \u001B[38;5;21;01mpd\u001B[39;00m\n\u001B[0;32m----> 2\u001B[0m \u001B[38;5;28;01mimport\u001B[39;00m \u001B[38;5;21;01mroam\u001B[39;00m\u001B[38;5;21;01m.\u001B[39;00m\u001B[38;5;21;01mgintervals\u001B[39;00m \u001B[38;5;28;01mas\u001B[39;00m \u001B[38;5;21;01mgint\u001B[39;00m\n",
      "File \u001B[0;32m~/Documents/Uni/bcs/year3/Lab/tomer_lab_project/roam/gintervals.py:3\u001B[0m\n\u001B[1;32m      1\u001B[0m \u001B[38;5;66;03m#!/usr/bin/python3\u001B[39;00m\n\u001B[0;32m----> 3\u001B[0m \u001B[38;5;28;01mfrom\u001B[39;00m \u001B[38;5;21;01mchroms\u001B[39;00m \u001B[38;5;28;01mimport\u001B[39;00m Chrom\n\u001B[1;32m      4\u001B[0m \u001B[38;5;28;01mimport\u001B[39;00m \u001B[38;5;21;01mnumpy\u001B[39;00m \u001B[38;5;28;01mas\u001B[39;00m \u001B[38;5;21;01mnp\u001B[39;00m\n\u001B[1;32m      5\u001B[0m \u001B[38;5;28;01mimport\u001B[39;00m \u001B[38;5;21;01mpybedtools\u001B[39;00m \u001B[38;5;28;01mas\u001B[39;00m \u001B[38;5;21;01mpbt\u001B[39;00m\n",
      "\u001B[0;31mModuleNotFoundError\u001B[0m: No module named 'chroms'"
     ]
    }
   ],
   "source": [
    "import pandas as pd"
   ]
  },
  {
   "cell_type": "code",
   "execution_count": 83,
   "outputs": [
    {
     "data": {
      "text/plain": "         name  chrom strand  txStart    txEnd geneSymbol refseq\n0  uc002zkg.1  chr21      +  9690070  9690100   DQ579288    nan\n1  uc021wgt.1  chr21      +  9692177  9692207   DQ590589    nan\n2  uc011abu.2  chr21      +  9711934  9769227   BC071797    nan\n3  uc021wgu.1  chr21      +  9825459  9825481   JB074932    nan\n4  uc021wgv.1  chr21      +  9825831  9826011    MIR3648    nan",
      "text/html": "<div>\n<style scoped>\n    .dataframe tbody tr th:only-of-type {\n        vertical-align: middle;\n    }\n\n    .dataframe tbody tr th {\n        vertical-align: top;\n    }\n\n    .dataframe thead th {\n        text-align: right;\n    }\n</style>\n<table border=\"1\" class=\"dataframe\">\n  <thead>\n    <tr style=\"text-align: right;\">\n      <th></th>\n      <th>name</th>\n      <th>chrom</th>\n      <th>strand</th>\n      <th>txStart</th>\n      <th>txEnd</th>\n      <th>geneSymbol</th>\n      <th>refseq</th>\n    </tr>\n  </thead>\n  <tbody>\n    <tr>\n      <th>0</th>\n      <td>uc002zkg.1</td>\n      <td>chr21</td>\n      <td>+</td>\n      <td>9690070</td>\n      <td>9690100</td>\n      <td>DQ579288</td>\n      <td>nan</td>\n    </tr>\n    <tr>\n      <th>1</th>\n      <td>uc021wgt.1</td>\n      <td>chr21</td>\n      <td>+</td>\n      <td>9692177</td>\n      <td>9692207</td>\n      <td>DQ590589</td>\n      <td>nan</td>\n    </tr>\n    <tr>\n      <th>2</th>\n      <td>uc011abu.2</td>\n      <td>chr21</td>\n      <td>+</td>\n      <td>9711934</td>\n      <td>9769227</td>\n      <td>BC071797</td>\n      <td>nan</td>\n    </tr>\n    <tr>\n      <th>3</th>\n      <td>uc021wgu.1</td>\n      <td>chr21</td>\n      <td>+</td>\n      <td>9825459</td>\n      <td>9825481</td>\n      <td>JB074932</td>\n      <td>nan</td>\n    </tr>\n    <tr>\n      <th>4</th>\n      <td>uc021wgv.1</td>\n      <td>chr21</td>\n      <td>+</td>\n      <td>9825831</td>\n      <td>9826011</td>\n      <td>MIR3648</td>\n      <td>nan</td>\n    </tr>\n  </tbody>\n</table>\n</div>"
     },
     "execution_count": 83,
     "metadata": {},
     "output_type": "execute_result"
    }
   ],
   "source": [
    "# read the UCSC_genes_chr21.txt file into data frame\n",
    "chr21_known_genes = pd.read_csv('UCSC_genes_chr21_all', sep='\\t')\n",
    "# remove the part of columns names before the last dot\n",
    "chr21_known_genes.columns = chr21_known_genes.columns.str.split('.').str[-1]\n",
    "chr21_known_genes['geneSymbol'] = chr21_known_genes['geneSymbol'].astype(str)\n",
    "chr21_known_genes['refseq'] = chr21_known_genes['refseq'].astype(str)\n",
    "chr21_known_genes[\"strand\"] = chr21_known_genes[\"strand\"].str.strip()\n",
    "chr21_known_genes.head()"
   ],
   "metadata": {
    "collapsed": false,
    "ExecuteTime": {
     "start_time": "2023-05-25T11:10:23.859800Z",
     "end_time": "2023-05-25T11:10:23.884680Z"
    }
   }
  },
  {
   "cell_type": "code",
   "execution_count": 70,
   "outputs": [
    {
     "data": {
      "text/plain": "  geneSymbol     refseq\n0       AAAS  NM_015665\n1      AAGAB  NM_024666\n2       AAMP  NM_001087\n3       AAR2  NM_015511\n4       AARS  NM_001605",
      "text/html": "<div>\n<style scoped>\n    .dataframe tbody tr th:only-of-type {\n        vertical-align: middle;\n    }\n\n    .dataframe tbody tr th {\n        vertical-align: top;\n    }\n\n    .dataframe thead th {\n        text-align: right;\n    }\n</style>\n<table border=\"1\" class=\"dataframe\">\n  <thead>\n    <tr style=\"text-align: right;\">\n      <th></th>\n      <th>geneSymbol</th>\n      <th>refseq</th>\n    </tr>\n  </thead>\n  <tbody>\n    <tr>\n      <th>0</th>\n      <td>AAAS</td>\n      <td>NM_015665</td>\n    </tr>\n    <tr>\n      <th>1</th>\n      <td>AAGAB</td>\n      <td>NM_024666</td>\n    </tr>\n    <tr>\n      <th>2</th>\n      <td>AAMP</td>\n      <td>NM_001087</td>\n    </tr>\n    <tr>\n      <th>3</th>\n      <td>AAR2</td>\n      <td>NM_015511</td>\n    </tr>\n    <tr>\n      <th>4</th>\n      <td>AARS</td>\n      <td>NM_001605</td>\n    </tr>\n  </tbody>\n</table>\n</div>"
     },
     "execution_count": 70,
     "metadata": {},
     "output_type": "execute_result"
    }
   ],
   "source": [
    "# read HK_genes.txt file into data frame, with column names as GeneSymbol, GeneID\n",
    "HK_genes = pd.read_csv('HK_genes.txt', sep='\\t', header=None, names=['geneSymbol', 'refseq'])\n",
    "HK_genes['geneSymbol'] = HK_genes['geneSymbol'].astype(str)\n",
    "HK_genes['refseq'] = HK_genes['refseq'].astype(str)\n",
    "# trim space at the end of geneSymbol column in HK_genes data frame\n",
    "HK_genes['geneSymbol'] = HK_genes['geneSymbol'].str.strip()\n",
    "HK_genes.head()"
   ],
   "metadata": {
    "collapsed": false,
    "ExecuteTime": {
     "start_time": "2023-05-25T11:15:11.743682Z",
     "end_time": "2023-05-25T11:15:11.762807Z"
    }
   }
  },
  {
   "cell_type": "code",
   "execution_count": 84,
   "outputs": [
    {
     "data": {
      "text/plain": "           name  chrom strand   txStart     txEnd geneSymbol_x     refseq  \\\n0    uc002yjx.2  chr21      -  16333555  16437126        NRIP1  NM_003489   \n1    uc031ruy.1  chr21      -  16333555  16438231        NRIP1  NM_003489   \n3    uc021whl.1  chr21      -  16337036  16340513        NRIP1  NM_003489   \n4    uc002yjy.1  chr21      +  17102495  17252377        USP25  NM_013396   \n8    uc002yls.3  chr21      -  27096790  27107965       ATP5PF  NM_001685   \n..          ...    ...    ...       ...       ...          ...        ...   \n135  uc002zdz.3  chr21      +  45432205  45480110          NaN        NaN   \n139  uc011afb.1  chr21      +  45509365  45518940          NaN        NaN   \n146  uc002zij.3  chr21      -  47608359  47648738          NaN        NaN   \n150  uc002zio.1  chr21      -  47655047  47667074          NaN        NaN   \n154  uc031rwc.1  chr21      -  47705027  47706122          NaN        NaN   \n\n    geneSymbol_y geneSymbol      refseq_x   refseq_y  \n0          NRIP1        NaN           NaN        NaN  \n1          NRIP1        NaN           NaN        NaN  \n3          NRIP1        NaN           NaN        NaN  \n4          USP25        NaN           NaN        NaN  \n8          ATP5J        NaN           NaN        NaN  \n..           ...        ...           ...        ...  \n135          NaN   TRAPPC10           nan  NM_003274  \n139          NaN   TRAPPC10           nan  NM_003274  \n146          NaN        LSS  NM_001001438  NM_002340  \n150          NaN     MCM3AP           nan  NM_003906  \n154          NaN     MCM3AP           nan  NM_003906  \n\n[82 rows x 11 columns]",
      "text/html": "<div>\n<style scoped>\n    .dataframe tbody tr th:only-of-type {\n        vertical-align: middle;\n    }\n\n    .dataframe tbody tr th {\n        vertical-align: top;\n    }\n\n    .dataframe thead th {\n        text-align: right;\n    }\n</style>\n<table border=\"1\" class=\"dataframe\">\n  <thead>\n    <tr style=\"text-align: right;\">\n      <th></th>\n      <th>name</th>\n      <th>chrom</th>\n      <th>strand</th>\n      <th>txStart</th>\n      <th>txEnd</th>\n      <th>geneSymbol_x</th>\n      <th>refseq</th>\n      <th>geneSymbol_y</th>\n      <th>geneSymbol</th>\n      <th>refseq_x</th>\n      <th>refseq_y</th>\n    </tr>\n  </thead>\n  <tbody>\n    <tr>\n      <th>0</th>\n      <td>uc002yjx.2</td>\n      <td>chr21</td>\n      <td>-</td>\n      <td>16333555</td>\n      <td>16437126</td>\n      <td>NRIP1</td>\n      <td>NM_003489</td>\n      <td>NRIP1</td>\n      <td>NaN</td>\n      <td>NaN</td>\n      <td>NaN</td>\n    </tr>\n    <tr>\n      <th>1</th>\n      <td>uc031ruy.1</td>\n      <td>chr21</td>\n      <td>-</td>\n      <td>16333555</td>\n      <td>16438231</td>\n      <td>NRIP1</td>\n      <td>NM_003489</td>\n      <td>NRIP1</td>\n      <td>NaN</td>\n      <td>NaN</td>\n      <td>NaN</td>\n    </tr>\n    <tr>\n      <th>3</th>\n      <td>uc021whl.1</td>\n      <td>chr21</td>\n      <td>-</td>\n      <td>16337036</td>\n      <td>16340513</td>\n      <td>NRIP1</td>\n      <td>NM_003489</td>\n      <td>NRIP1</td>\n      <td>NaN</td>\n      <td>NaN</td>\n      <td>NaN</td>\n    </tr>\n    <tr>\n      <th>4</th>\n      <td>uc002yjy.1</td>\n      <td>chr21</td>\n      <td>+</td>\n      <td>17102495</td>\n      <td>17252377</td>\n      <td>USP25</td>\n      <td>NM_013396</td>\n      <td>USP25</td>\n      <td>NaN</td>\n      <td>NaN</td>\n      <td>NaN</td>\n    </tr>\n    <tr>\n      <th>8</th>\n      <td>uc002yls.3</td>\n      <td>chr21</td>\n      <td>-</td>\n      <td>27096790</td>\n      <td>27107965</td>\n      <td>ATP5PF</td>\n      <td>NM_001685</td>\n      <td>ATP5J</td>\n      <td>NaN</td>\n      <td>NaN</td>\n      <td>NaN</td>\n    </tr>\n    <tr>\n      <th>...</th>\n      <td>...</td>\n      <td>...</td>\n      <td>...</td>\n      <td>...</td>\n      <td>...</td>\n      <td>...</td>\n      <td>...</td>\n      <td>...</td>\n      <td>...</td>\n      <td>...</td>\n      <td>...</td>\n    </tr>\n    <tr>\n      <th>135</th>\n      <td>uc002zdz.3</td>\n      <td>chr21</td>\n      <td>+</td>\n      <td>45432205</td>\n      <td>45480110</td>\n      <td>NaN</td>\n      <td>NaN</td>\n      <td>NaN</td>\n      <td>TRAPPC10</td>\n      <td>nan</td>\n      <td>NM_003274</td>\n    </tr>\n    <tr>\n      <th>139</th>\n      <td>uc011afb.1</td>\n      <td>chr21</td>\n      <td>+</td>\n      <td>45509365</td>\n      <td>45518940</td>\n      <td>NaN</td>\n      <td>NaN</td>\n      <td>NaN</td>\n      <td>TRAPPC10</td>\n      <td>nan</td>\n      <td>NM_003274</td>\n    </tr>\n    <tr>\n      <th>146</th>\n      <td>uc002zij.3</td>\n      <td>chr21</td>\n      <td>-</td>\n      <td>47608359</td>\n      <td>47648738</td>\n      <td>NaN</td>\n      <td>NaN</td>\n      <td>NaN</td>\n      <td>LSS</td>\n      <td>NM_001001438</td>\n      <td>NM_002340</td>\n    </tr>\n    <tr>\n      <th>150</th>\n      <td>uc002zio.1</td>\n      <td>chr21</td>\n      <td>-</td>\n      <td>47655047</td>\n      <td>47667074</td>\n      <td>NaN</td>\n      <td>NaN</td>\n      <td>NaN</td>\n      <td>MCM3AP</td>\n      <td>nan</td>\n      <td>NM_003906</td>\n    </tr>\n    <tr>\n      <th>154</th>\n      <td>uc031rwc.1</td>\n      <td>chr21</td>\n      <td>-</td>\n      <td>47705027</td>\n      <td>47706122</td>\n      <td>NaN</td>\n      <td>NaN</td>\n      <td>NaN</td>\n      <td>MCM3AP</td>\n      <td>nan</td>\n      <td>NM_003906</td>\n    </tr>\n  </tbody>\n</table>\n<p>82 rows × 11 columns</p>\n</div>"
     },
     "execution_count": 84,
     "metadata": {},
     "output_type": "execute_result"
    }
   ],
   "source": [
    "# merge the two data frames if they match on geneSymbol or refseq\n",
    "column_to_check_dups = ['chrom', 'txStart', 'txEnd']\n",
    "merge_on_refseq = pd.merge(chr21_known_genes, HK_genes, on='refseq', how='inner')\n",
    "merge_on_genesymbol = pd.merge(chr21_known_genes, HK_genes, on='geneSymbol', how='inner')\n",
    "# Combining the results\n",
    "df_merged = pd.concat([merge_on_refseq, merge_on_genesymbol], ignore_index=True).drop_duplicates(subset=column_to_check_dups, keep='first')\n",
    "\n",
    "df_merged"
   ],
   "metadata": {
    "collapsed": false
   }
  },
  {
   "cell_type": "code",
   "execution_count": 89,
   "outputs": [],
   "source": [
    "def calc_promoter(df, before, after):\n",
    "    if df[\"strand\"] == \"+\":\n",
    "        df['promoter_start'] = df['txStart'] - before\n",
    "        df['promoter_end'] = df['txStart'] + after\n",
    "    elif df[\"strand\"] == \"-\":\n",
    "        df['promoter_start'] = df['txEnd'] - after\n",
    "        df['promoter_end'] = df['txEnd'] + before\n",
    "    return df"
   ],
   "metadata": {
    "collapsed": false
   }
  },
  {
   "cell_type": "code",
   "execution_count": 90,
   "outputs": [
    {
     "data": {
      "text/plain": "         name  chrom strand   txStart     txEnd geneSymbol_x     refseq  \\\n0  uc002yjx.2  chr21      -  16333555  16437126        NRIP1  NM_003489   \n1  uc031ruy.1  chr21      -  16333555  16438231        NRIP1  NM_003489   \n3  uc021whl.1  chr21      -  16337036  16340513        NRIP1  NM_003489   \n4  uc002yjy.1  chr21      +  17102495  17252377        USP25  NM_013396   \n8  uc002yls.3  chr21      -  27096790  27107965       ATP5PF  NM_001685   \n\n  geneSymbol_y geneSymbol refseq_x refseq_y  promoter_start  promoter_end  \n0        NRIP1        NaN      NaN      NaN        16436126      16442126  \n1        NRIP1        NaN      NaN      NaN        16437231      16443231  \n3        NRIP1        NaN      NaN      NaN        16339513      16345513  \n4        USP25        NaN      NaN      NaN        17097495      17103495  \n8        ATP5J        NaN      NaN      NaN        27106965      27112965  ",
      "text/html": "<div>\n<style scoped>\n    .dataframe tbody tr th:only-of-type {\n        vertical-align: middle;\n    }\n\n    .dataframe tbody tr th {\n        vertical-align: top;\n    }\n\n    .dataframe thead th {\n        text-align: right;\n    }\n</style>\n<table border=\"1\" class=\"dataframe\">\n  <thead>\n    <tr style=\"text-align: right;\">\n      <th></th>\n      <th>name</th>\n      <th>chrom</th>\n      <th>strand</th>\n      <th>txStart</th>\n      <th>txEnd</th>\n      <th>geneSymbol_x</th>\n      <th>refseq</th>\n      <th>geneSymbol_y</th>\n      <th>geneSymbol</th>\n      <th>refseq_x</th>\n      <th>refseq_y</th>\n      <th>promoter_start</th>\n      <th>promoter_end</th>\n    </tr>\n  </thead>\n  <tbody>\n    <tr>\n      <th>0</th>\n      <td>uc002yjx.2</td>\n      <td>chr21</td>\n      <td>-</td>\n      <td>16333555</td>\n      <td>16437126</td>\n      <td>NRIP1</td>\n      <td>NM_003489</td>\n      <td>NRIP1</td>\n      <td>NaN</td>\n      <td>NaN</td>\n      <td>NaN</td>\n      <td>16436126</td>\n      <td>16442126</td>\n    </tr>\n    <tr>\n      <th>1</th>\n      <td>uc031ruy.1</td>\n      <td>chr21</td>\n      <td>-</td>\n      <td>16333555</td>\n      <td>16438231</td>\n      <td>NRIP1</td>\n      <td>NM_003489</td>\n      <td>NRIP1</td>\n      <td>NaN</td>\n      <td>NaN</td>\n      <td>NaN</td>\n      <td>16437231</td>\n      <td>16443231</td>\n    </tr>\n    <tr>\n      <th>3</th>\n      <td>uc021whl.1</td>\n      <td>chr21</td>\n      <td>-</td>\n      <td>16337036</td>\n      <td>16340513</td>\n      <td>NRIP1</td>\n      <td>NM_003489</td>\n      <td>NRIP1</td>\n      <td>NaN</td>\n      <td>NaN</td>\n      <td>NaN</td>\n      <td>16339513</td>\n      <td>16345513</td>\n    </tr>\n    <tr>\n      <th>4</th>\n      <td>uc002yjy.1</td>\n      <td>chr21</td>\n      <td>+</td>\n      <td>17102495</td>\n      <td>17252377</td>\n      <td>USP25</td>\n      <td>NM_013396</td>\n      <td>USP25</td>\n      <td>NaN</td>\n      <td>NaN</td>\n      <td>NaN</td>\n      <td>17097495</td>\n      <td>17103495</td>\n    </tr>\n    <tr>\n      <th>8</th>\n      <td>uc002yls.3</td>\n      <td>chr21</td>\n      <td>-</td>\n      <td>27096790</td>\n      <td>27107965</td>\n      <td>ATP5PF</td>\n      <td>NM_001685</td>\n      <td>ATP5J</td>\n      <td>NaN</td>\n      <td>NaN</td>\n      <td>NaN</td>\n      <td>27106965</td>\n      <td>27112965</td>\n    </tr>\n  </tbody>\n</table>\n</div>"
     },
     "execution_count": 90,
     "metadata": {},
     "output_type": "execute_result"
    }
   ],
   "source": [
    "# calculate promoter start and end for each gene\n",
    "df_merged = df_merged.apply(calc_promoter, axis=1, args=(5000, 1000))\n",
    "df_merged.head()"
   ],
   "metadata": {
    "collapsed": false
   }
  },
  {
   "cell_type": "code",
   "execution_count": null,
   "outputs": [],
   "source": [],
   "metadata": {
    "collapsed": false
   }
  }
 ],
 "metadata": {
  "kernelspec": {
   "display_name": "Python 3",
   "language": "python",
   "name": "python3"
  },
  "language_info": {
   "codemirror_mode": {
    "name": "ipython",
    "version": 2
   },
   "file_extension": ".py",
   "mimetype": "text/x-python",
   "name": "python",
   "nbconvert_exporter": "python",
   "pygments_lexer": "ipython2",
   "version": "2.7.6"
  }
 },
 "nbformat": 4,
 "nbformat_minor": 0
}
